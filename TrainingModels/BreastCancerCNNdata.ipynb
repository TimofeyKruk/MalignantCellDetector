{
 "cells": [
  {
   "cell_type": "code",
   "execution_count": 4,
   "metadata": {},
   "outputs": [],
   "source": [
    "#IMPORTANT NOTEBOOK (BINARY SEGMENTATION)\n",
    "import numpy as np\n",
    "import matplotlib.pyplot as plt\n",
    "import os\n",
    "import cv2\n",
    "from tqdm import tqdm #just for beautiful for loops\n",
    "import random # !!!!!!!It is important to shuffle data inside\n",
    "import pickle # for saving/loading data in/from binary files\n",
    "\n",
    "#Constants\n",
    "IMG_SIZE=50\n",
    "FOLDERS_QUANTITY=1\n",
    "FSTART=0\n",
    "DATADIR=\"F:\\BSU_FAMCS\\BMI\\CourseProject\\Datasets\\BreastCancer\"\n",
    "CATEGORIES=[\"Benign\",\"Malignant\"]\n",
    "\n",
    "\n",
    "def creating_training_data():\n",
    "    \"\"\"Create dataset\"\"\"\n",
    "    training_data=[]\n",
    "    for folder in os.listdir(DATADIR)[FSTART:FOLDERS_QUANTITY]:\n",
    "        path=os.path.join(DATADIR,folder)\n",
    "        \n",
    "        for category in CATEGORIES:\n",
    "            class_num=CATEGORIES.index(category)\n",
    "            current_path=os.path.join(path,str(class_num))\n",
    "            \n",
    "            for img in tqdm(os.listdir(current_path)):\n",
    "                try:\n",
    "                    img_array=cv2.imread(os.path.join(current_path,img),cv2.IMREAD_GRAYSCALE)\n",
    "                    new_array=cv2.resize(img_array,(IMG_SIZE,IMG_SIZE))\n",
    "                    training_data.append([new_array,class_num])\n",
    "                except Exception as e:\n",
    "                    pass #we don't care if some images weren't loaded\n",
    "    #IMPORTANT\n",
    "    random.shuffle(training_data)\n",
    "    return  training_data\n",
    "\n",
    "\n",
    "def separate_and_normalize(training_data):\n",
    "    \"\"\"Separates data list into X and Y.\n",
    "    Besides it transforms into array\n",
    "    and normalize X \"\"\"\n",
    "    X=[]\n",
    "    Y=[]\n",
    "    for array,category in training_data:\n",
    "        X.append(array)\n",
    "        Y.append(category)\n",
    "    X=np.array(X).reshape(-1,IMG_SIZE,IMG_SIZE,1)\n",
    "    X=X/255.0 \n",
    "    Y=np.array(Y).reshape(-1,1)\n",
    "    \n",
    "    return X,Y\n",
    "\n",
    "\n",
    "def pickling_out(X,name):\n",
    "    \"\"\"Saving X in binary file \"name\".pickle\"\"\"\n",
    "    pickle_out=open(\"{}.pickle\".format(name),\"wb\")\n",
    "    pickle.dump(X,pickle_out)\n",
    "    pickle_out.close()\n",
    "    \n",
    "    \n",
    "def pickling_in(name):\n",
    "    \"\"\"Loading X from binary file \"name\".pickle\"\"\"\n",
    "    pickle_in=open(\"{}.pickle\".format(name),\"rb\")\n",
    "    X=pickle.load(pickle_in)\n",
    "    pickle_in.close()\n",
    "    return X\n",
    "    \n",
    "    \n",
    "    "
   ]
  },
  {
   "cell_type": "code",
   "execution_count": 5,
   "metadata": {
    "scrolled": true
   },
   "outputs": [
    {
     "name": "stderr",
     "output_type": "stream",
     "text": [
      "100%|██████████| 479/479 [00:00<00:00, 1603.31it/s]\n",
      "100%|██████████| 70/70 [00:00<00:00, 1325.82it/s]\n"
     ]
    }
   ],
   "source": [
    "training_data=creating_training_data()"
   ]
  },
  {
   "cell_type": "code",
   "execution_count": 6,
   "metadata": {},
   "outputs": [
    {
     "data": {
      "text/plain": [
       "549"
      ]
     },
     "execution_count": 6,
     "metadata": {},
     "output_type": "execute_result"
    }
   ],
   "source": [
    "len(training_data)"
   ]
  },
  {
   "cell_type": "code",
   "execution_count": 7,
   "metadata": {},
   "outputs": [
    {
     "data": {
      "text/plain": [
       "<matplotlib.image.AxesImage at 0x1fab7c6ef48>"
      ]
     },
     "execution_count": 7,
     "metadata": {},
     "output_type": "execute_result"
    },
    {
     "data": {
      "image/png": "[encoded data removed]",
      "text/plain": [
       "<Figure size 432x288 with 1 Axes>"
      ]
     },
     "metadata": {
      "needs_background": "light"
     },
     "output_type": "display_data"
    }
   ],
   "source": [
    "plt.imshow(training_data[1][0],cmap=\"gray\")"
   ]
  },
  {
   "cell_type": "code",
   "execution_count": 8,
   "metadata": {
    "scrolled": true
   },
   "outputs": [
    {
     "name": "stdout",
     "output_type": "stream",
     "text": [
      "0\n",
      "0\n",
      "0\n",
      "0\n",
      "0\n",
      "0\n",
      "0\n",
      "0\n",
      "1\n",
      "1\n"
     ]
    }
   ],
   "source": [
    "for category in training_data[:10]:\n",
    "    print(category[1])"
   ]
  },
  {
   "cell_type": "code",
   "execution_count": 9,
   "metadata": {},
   "outputs": [],
   "source": [
    "#test_data=creating_training_data()\n",
    "#len(test_data)\n",
    "\n",
    "X,Y=separate_and_normalize(training_data)\n",
    "pickling_out(X,\"trainX\")\n",
    "pickling_out(Y,\"trainY\")"
   ]
  }
 ],
 "metadata": {
  "kernelspec": {
   "display_name": "Python 3",
   "language": "python",
   "name": "python3"
  },
  "language_info": {
   "codemirror_mode": {
    "name": "ipython",
    "version": 3
   },
   "file_extension": ".py",
   "mimetype": "text/x-python",
   "name": "python",
   "nbconvert_exporter": "python",
   "pygments_lexer": "ipython3",
   "version": "3.7.4"
  }
 },
 "nbformat": 4,
 "nbformat_minor": 2
}
